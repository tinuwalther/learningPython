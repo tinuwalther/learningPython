{
 "metadata": {
  "language_info": {
   "codemirror_mode": {
    "name": "ipython",
    "version": 3
   },
   "file_extension": ".py",
   "mimetype": "text/x-python",
   "name": "python",
   "nbconvert_exporter": "python",
   "pygments_lexer": "ipython3",
   "version": "3.9.1-final"
  },
  "orig_nbformat": 2,
  "kernelspec": {
   "name": "python3",
   "display_name": "Python 3.9.1 64-bit",
   "metadata": {
    "interpreter": {
     "hash": "ac59ebe37160ed0dfa835113d9b8498d9f09ceb179beaac4002f036b9467c963"
    }
   }
  }
 },
 "nbformat": 4,
 "nbformat_minor": 2,
 "cells": [
  {
   "source": [
    "# Python WinRM\n",
    "\n",
    "## Install Python WinRM\n",
    "pip install pywinrm"
   ],
   "cell_type": "markdown",
   "metadata": {}
  },
  {
   "source": [
    "## Creating a PowerShell Remoting Session with a local administrator"
   ],
   "cell_type": "markdown",
   "metadata": {}
  },
  {
   "cell_type": "code",
   "execution_count": null,
   "metadata": {},
   "outputs": [],
   "source": [
    "import winrm\n",
    "import getpass\n",
    "computer = input(\"Enter the computer to connect\")\n",
    "user     = input(\"Enter your user name\")\n",
    "password = getpass.getpass(prompt='Enter the password for '+str(user), stream=None)\n",
    "\n",
    "try:\n",
    "    session  = winrm.Session(computer, auth=(user, password))\n",
    "    result   = session.run_ps(\"$env:computername\")\n",
    "    print(result.std_out)\n",
    "\n",
    "except Exception as e:\n",
    "    print(e)"
   ]
  },
  {
   "source": [
    "## Creating a PowerShell Remoting Session with a domain user"
   ],
   "cell_type": "markdown",
   "metadata": {}
  },
  {
   "cell_type": "code",
   "execution_count": null,
   "metadata": {},
   "outputs": [],
   "source": [
    "import winrm\n",
    "import getpass\n",
    "computer = input(\"Enter the computer to connect\")\n",
    "user     = input(\"Enter the userprincipalname (user@domain.net)\")\n",
    "password = getpass.getpass(prompt='Enter the password for '+str(user), stream=None)\n",
    "\n",
    "try:\n",
    "    session  = winrm.Session(computer, auth=(user, password), transport='kerberos')\n",
    "    result = session.run_ps(\"$env:computername\")\n",
    "    print(result.std_out)\n",
    "\n",
    "except Exception as e:\n",
    "    print(e)"
   ]
  },
  {
   "source": [
    "## Encrypt the password\n",
    "pip install cryptography"
   ],
   "cell_type": "markdown",
   "metadata": {}
  },
  {
   "cell_type": "code",
   "execution_count": null,
   "metadata": {},
   "outputs": [],
   "source": [
    "from cryptography.fernet import Fernet\n",
    "key = b'pRmgMa8T0INjEAfksaq2aafzoZXEuwKI7wDe4c1F8AY='\n",
    "cipher_suite = Fernet(key)\n",
    "\n",
    "print('Encrypt a password')\n",
    "securepassword = cipher_suite.encrypt(b\"Password1234\")\n",
    "print(securepassword)\n",
    "\n",
    "print('Decrypt a password')\n",
    "cipher_suite.decrypt(securepassword)\n"
   ]
  },
  {
   "cell_type": "code",
   "execution_count": null,
   "metadata": {},
   "outputs": [],
   "source": []
  }
 ]
}