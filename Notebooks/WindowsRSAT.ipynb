{
 "metadata": {
  "language_info": {
   "codemirror_mode": {
    "name": "ipython",
    "version": 3
   },
   "file_extension": ".py",
   "mimetype": "text/x-python",
   "name": "python",
   "nbconvert_exporter": "python",
   "pygments_lexer": "ipython3",
   "version": "3.9.1-final"
  },
  "orig_nbformat": 2,
  "kernelspec": {
   "name": "python3",
   "display_name": "Python 3.9.1 64-bit",
   "metadata": {
    "interpreter": {
     "hash": "ac59ebe37160ed0dfa835113d9b8498d9f09ceb179beaac4002f036b9467c963"
    }
   }
  }
 },
 "nbformat": 4,
 "nbformat_minor": 2,
 "cells": [
  {
   "source": [
    "# Python WinRM\n",
    "\n",
    "## Install Python WinRM\n",
    "pip install pywinrm"
   ],
   "cell_type": "markdown",
   "metadata": {}
  },
  {
   "source": [
    "## Creating a PowerShell Remoting Session with a local administrator"
   ],
   "cell_type": "markdown",
   "metadata": {}
  },
  {
   "cell_type": "code",
   "execution_count": null,
   "metadata": {},
   "outputs": [],
   "source": [
    "import winrm\n",
    "import getpass\n",
    "\n",
    "computer = input(\"Enter the computer to connect\")\n",
    "user     = input(\"Enter your user name\")\n",
    "password = getpass.getpass(prompt='Enter the password for '+str(user), stream=None)\n",
    "\n",
    "try:\n",
    "    session  = winrm.Session(computer, auth=('{}\\{}'.format(computer,user), password), transport='ntlm')\n",
    "    result = session.run_ps(\"$env:computername\")\n",
    "    print(\"Status Code: \" + str(result.status_code))\n",
    "    print(result.std_out)\n",
    "\n",
    "except Exception as e:\n",
    "        print(e)"
   ]
  },
  {
   "source": [
    "## Creating a PowerShell Remoting Session with a domain user"
   ],
   "cell_type": "markdown",
   "metadata": {}
  },
  {
   "cell_type": "code",
   "execution_count": null,
   "metadata": {},
   "outputs": [],
   "source": [
    "import winrm\n",
    "import getpass\n",
    "\n",
    "computer = input(\"Enter the computer to connect\")\n",
    "user     = input(\"Enter the userprincipalname (user@domain.net)\")\n",
    "password = getpass.getpass(prompt='Enter the password for '+str(user), stream=None)\n",
    "\n",
    "try:\n",
    "    session  = winrm.Session(computer, auth=(user, password), transport='kerberos')\n",
    "    result = session.run_ps(\"$env:computername\")\n",
    "    print(\"Status Code: \" + str(result.status_code))\n",
    "    print(result.std_out)\n",
    "\n",
    "except Exception as e:\n",
    "    print(e)"
   ]
  },
  {
   "cell_type": "code",
   "execution_count": null,
   "metadata": {},
   "outputs": [],
   "source": []
  },
  {
   "source": [
    "## Run a PowerShell-Script in a PowerShell Remoting Session"
   ],
   "cell_type": "markdown",
   "metadata": {}
  },
  {
   "cell_type": "code",
   "execution_count": null,
   "metadata": {},
   "outputs": [],
   "source": [
    "import winrm\n",
    "import getpass\n",
    "import json\n",
    "\n",
    "def invoke_remotescript(computer,user,password,ps_script):\n",
    "    try:\n",
    "        session = winrm.Session(computer, auth=('{}\\{}'.format(computer,user), password), transport='ntlm')\n",
    "        result  = session.run_ps(ps_script)\n",
    "        if result.status_code == 0:\n",
    "            return { \"StatusCode\": result.status_code, \"Output\": result.std_out.decode().replace('\\r\\n','') }\n",
    "        else:\n",
    "            return { \"StatusCode\": result.status_code, \"Error\": result.std_err }\n",
    "\n",
    "    except Exception as e:\n",
    "        print(e)\n",
    "\n",
    "ps_script = \"\"\"\n",
    "function Get-PyInstalledMemory{\n",
    "    [CmdletBinding()]\n",
    "    param(\n",
    "        [Parameter(Mandatory=$false)]\n",
    "        [String] $Name\n",
    "    )\n",
    "    $ComputerSystem = Get-WmiObject Win32_ComputerSystem\n",
    "    $TotalMemoryMB  = [Math]::Round($ComputerSystem.TotalPhysicalMemory/1mb)\n",
    "    return \"Total Memory $($TotalMemoryMB) MB\"\n",
    "}\n",
    "Get-PyInstalledMemory\n",
    "\"\"\"\n",
    "\n",
    "computer  = input(\"Enter the computer to connect\")\n",
    "user      = input(\"Enter your user name\")\n",
    "password  = getpass.getpass(prompt='Enter the password for '+str(user), stream=None)\n",
    "\n",
    "scriptret = invoke_remotescript(computer,user,password,ps_script)\n",
    "json_object = json.dumps(scriptret, indent = 4)   \n",
    "print(json_object)"
   ]
  },
  {
   "cell_type": "code",
   "execution_count": null,
   "metadata": {},
   "outputs": [],
   "source": []
  }
 ]
}