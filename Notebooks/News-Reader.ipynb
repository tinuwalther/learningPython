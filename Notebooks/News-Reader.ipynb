{
    "metadata": {
        "kernelspec": {
            "name": "python3",
            "display_name": "Python 3",
            "language": "python"
        },
        "language_info": {
            "name": "python",
            "version": "3.9.1",
            "mimetype": "text/x-python",
            "codemirror_mode": {
                "name": "ipython",
                "version": 3
            },
            "pygments_lexer": "ipython3",
            "nbconvert_exporter": "python",
            "file_extension": ".py"
        }
    },
    "nbformat_minor": 2,
    "nbformat": 4,
    "cells": [
        {
            "cell_type": "markdown",
            "source": [
                "# Python Website Reader\n",
                "\n",
                "Mit diesem Notebook werden die folgenden Webstites besucht und die News in Markdown angezeigt und als Markdown-file abgespeichert.\n",
                "\n",
                "Der Pfad und der Filename kann in der aufrufenden Function savefile('D:\\\\temp', 'srf.md', stream) angepasst werden. Aktuell ist die Function auskommentiert."
            ],
            "metadata": {
                "azdata_cell_guid": "ce9586c1-c828-49bd-a572-7bc6d33b3169"
            }
        },
        {
            "cell_type": "markdown",
            "source": [
                "**<mark>Bitte zuerst die class colors ausführen, damit die Farben für den Output geladen sind.</mark>**"
            ],
            "metadata": {
                "azdata_cell_guid": "4446ecb2-d37f-401f-90e9-74ca2be99268"
            }
        },
        {
            "cell_type": "code",
            "source": [
                "class colors: \r\n",
                "    '''Colors class:reset all colors with colors.reset'''\r\n",
                "\r\n",
                "    reset         = '\\033[0m'\r\n",
                "    bold          = '\\033[01m'\r\n",
                "    disable       = '\\033[02m'\r\n",
                "    underline     = '\\033[04m'\r\n",
                "    reverse       = '\\033[07m'\r\n",
                "    strikethrough = '\\033[09m'\r\n",
                "    invisible     = '\\033[08m'\r\n",
                "\r\n",
                "    class fg: \r\n",
                "        ''' Define the foreground-colors\r\n",
                "        use as colors.fg.colorname\r\n",
                "        '''\r\n",
                "        black      = '\\033[30m'\r\n",
                "        red        = '\\033[31m'\r\n",
                "        green      = '\\033[32m'\r\n",
                "        orange     = '\\033[33m'\r\n",
                "        blue       = '\\033[34m'\r\n",
                "        purple     = '\\033[35m'\r\n",
                "        cyan       = '\\033[36m'\r\n",
                "        lightgrey  = '\\033[37m'\r\n",
                "        darkgrey   = '\\033[90m'\r\n",
                "        lightred   = '\\033[91m'\r\n",
                "        lightgreen = '\\033[92m'\r\n",
                "        yellow     = '\\033[93m'\r\n",
                "        lightblue  = '\\033[94m'\r\n",
                "        pink       = '\\033[95m'\r\n",
                "        lightcyan  = '\\033[96m'\r\n",
                "\r\n",
                "    class bg: \r\n",
                "        ''' Define the background-colors\r\n",
                "        use as colors.bg.colorname\r\n",
                "        '''\r\n",
                "        black     = '\\033[40m'\r\n",
                "        red       = '\\033[41m'\r\n",
                "        green     = '\\033[42m'\r\n",
                "        orange    = '\\033[43m'\r\n",
                "        blue      = '\\033[44m'\r\n",
                "        purple    = '\\033[45m'\r\n",
                "        cyan      = '\\033[46m'\r\n",
                "        lightgrey = '\\033[47m'\r\n",
                ""
            ],
            "metadata": {
                "azdata_cell_guid": "4255a503-7896-4ffc-9c60-cf4a2a49c24b",
                "tags": [
                    "hide_input"
                ]
            },
            "outputs": [],
            "execution_count": null
        },
        {
            "cell_type": "markdown",
            "source": [
                "## SRF News\n",
                "Code ausführen <mark>(Run Cell)</mark> um die SRF News anzuzeigen."
            ],
            "metadata": {
                "azdata_cell_guid": "b2c9c1e2-2a47-4369-a228-aaba4dc00b63"
            }
        },
        {
            "cell_type": "code",
            "source": [
                "news = ['https://www.srf.ch/news/neuste-beitraege']\r\n",
                "\r\n",
                "def newsreader(url, links=True, images=True, emphasis=True):\r\n",
                "    '''Reads the given url and print a markdown'''\r\n",
                "    import requests, html2text, re\r\n",
                "    from datetime import datetime\r\n",
                "    now = datetime.now()\r\n",
                "\r\n",
                "    response = requests.get(url)\r\n",
                "    if(response.status_code == 200):\r\n",
                "\r\n",
                "        print(colors.bold + colors.fg.blue +'{1}{0}{4} {2}{0}{3}{0}'.format('\\n', '>' * 100, f'NEWS FROM: {site}', '<' * 100, now.strftime(\"%Y-%m-%d %H:%M:%S\")) + colors.reset)\r\n",
                "\r\n",
                "        html = response.content.decode('utf-8')\r\n",
                "\r\n",
                "        md = html2text.HTML2Text()\r\n",
                "        md.ignore_links    = not links\r\n",
                "        md.ignore_images   = not images\r\n",
                "        md.ignore_emphasis = not emphasis\r\n",
                "        md.body_width      = 100\r\n",
                "        \r\n",
                "        data  = md.handle(html)\r\n",
                "\r\n",
                "        #read from '## Inhalt'\r\n",
                "        start = data.find('###  Neuste Beiträge')\r\n",
                "        end   = data.find('## Footer')\r\n",
                "        stream = [(data[start:end])]\r\n",
                "\r\n",
                "        for i in stream:\r\n",
                "            if(i is not None):\r\n",
                "                line = i.replace('Mit Video\\n\\n','').replace('Mit Audio\\n\\n','')\r\n",
                "                print('{0}{1}{2}'.format(colors.fg.orange, line, colors.reset))\r\n",
                "\r\n",
                "        return stream\r\n",
                "\r\n",
                "def savefile(filepath, filename, stream):\r\n",
                "    '''Save the stream to the file'''\r\n",
                "    import os\r\n",
                "\r\n",
                "    if not os.path.exists(filepath):\r\n",
                "        os.makedirs(filepath)\r\n",
                "\r\n",
                "    file = open(filepath + '\\\\' + filename, 'w')\r\n",
                "    for i in stream:\r\n",
                "        file.write(i)\r\n",
                "\r\n",
                "    file.close()\r\n",
                "\r\n",
                "for site in news:\r\n",
                "    stream = newsreader(site, False, False)\r\n",
                "    #savefile('D:\\\\temp', 'srf.md', stream)\r\n",
                ""
            ],
            "metadata": {
                "azdata_cell_guid": "a5ab20f1-383d-4972-8cb7-eda2eb57ae2d",
                "tags": [
                    "hide_input"
                ]
            },
            "outputs": [],
            "execution_count": null
        },
        {
            "cell_type": "markdown",
            "source": [
                "## Südostschweiz\n",
                "Code ausführen (Run Cell) um die Südostschweiz News anzuzeigen."
            ],
            "metadata": {
                "azdata_cell_guid": "380735d8-63b5-4136-886b-eebd7a8f69a2"
            }
        },
        {
            "cell_type": "code",
            "source": [
                "news = ['https://www.suedostschweiz.ch']\r\n",
                "\r\n",
                "def newsreader(url, links=True, images=True, emphasis=True):\r\n",
                "    '''Reads the given url and print a markdown'''\r\n",
                "    import requests, html2text\r\n",
                "    from datetime import datetime\r\n",
                "    now = datetime.now()\r\n",
                "\r\n",
                "    response = requests.get(url)\r\n",
                "    if(response.status_code == 200):\r\n",
                "        \r\n",
                "        print(colors.bold + colors.fg.blue +'{1}{0}{4} {2}{0}{3}{0}'.format('\\n', '>' * 100, f'NEWS FROM: {site}', '<' * 100, now.strftime(\"%Y-%m-%d %H:%M:%S\")) + colors.reset)\r\n",
                "\r\n",
                "        html = response.content.decode('utf-8')\r\n",
                "\r\n",
                "        md = html2text.HTML2Text()\r\n",
                "        md.ignore_links    = not links\r\n",
                "        md.ignore_images   = not images\r\n",
                "        md.ignore_emphasis = not emphasis\r\n",
                "        md.body_width      = 100\r\n",
                "        \r\n",
                "        data  = md.handle(html)\r\n",
                "\r\n",
                "        #read from '# Startseite'\r\n",
                "        start  = data.find('# Startseite')\r\n",
                "        end    = data.find('Für Merkliste einloggen')\r\n",
                "        stream = [(data[start:end])]\r\n",
                "        \r\n",
                "        for i in stream:\r\n",
                "            if(i is not None):\r\n",
                "                line = i.replace('ABO\\n\\n','').replace('Sponsored Content\\n\\n','').replace('video\\n\\n','').replace('bilder\\n\\n','').replace('Mehr\\n\\n','')\r\n",
                "                print('{0}{1}{2}'.format(colors.fg.green, line, colors.reset))\r\n",
                "\r\n",
                "        return stream\r\n",
                "\r\n",
                "def savefile(filepath, filename, stream):\r\n",
                "    '''Save the stream to the file'''\r\n",
                "    import os\r\n",
                "\r\n",
                "    if not os.path.exists(filepath):\r\n",
                "        os.makedirs(filepath)\r\n",
                "\r\n",
                "    file = open(filepath + '\\\\' + filename, 'w')\r\n",
                "    for i in stream:\r\n",
                "        file.write(i)\r\n",
                "\r\n",
                "    file.close()\r\n",
                "\r\n",
                "for site in news:\r\n",
                "    stream = newsreader(site, False, False)\r\n",
                "    #savefile('D:\\\\temp', 'somedia.md', stream)\r\n",
                ""
            ],
            "metadata": {
                "azdata_cell_guid": "9895d271-ca99-46c4-a050-643b17e91188",
                "tags": [
                    "hide_input"
                ]
            },
            "outputs": [
                {
                    "name": "stdout",
                    "text": "\u001b[01m\u001b[34m>>>>>>>>>>>>>>>>>>>>>>>>>>>>>>>>>>>>>>>>>>>>>>>>>>>>>>>>>>>>>>>>>>>>>>>>>>>>>>>>>>>>>>>>>>>>>>>>>>>>\n2021-03-04 18:03:54 NEWS FROM: https://www.suedostschweiz.ch\n<<<<<<<<<<<<<<<<<<<<<<<<<<<<<<<<<<<<<<<<<<<<<<<<<<<<<<<<<<<<<<<<<<<<<<<<<<<<<<<<<<<<<<<<<<<<<<<<<<<<\n\u001b[0m\n\u001b[32m# Startseite\n\nX-project\n\n## Einzigartiges Sportspektakel im Engadin\n\nDas Engadin war Schauplatz eines ganz besonderen Spektakels. Das sogenannte «X-project» kombiniert\nWindsurfen im Pulverschnee, Speedriden, Snowkiten und Snowboarden.\n\nFür den Neuanfang\n\n## Bischofssprecher Gracia verlässt das Bistum Chur\n\nDer Bischofssprecher Giuseppe Gracia verlässt per sofort das Bistum Chur. Der Neuanfang im Bistum\nbrauche auch ein neues Gesicht in der Medienarbeit.\n\nTrophäe und Urkunde\n\n## Volg in Scuol ist «Laden des Jahres 2020»\n\nIn Scuol steht eine der fünf ausgezeichneten Volg-Filialen der Schweiz. Das Team erhält eine Trophäe\nund eine Urkunde - gefeiert wird aber noch nicht.\n\nKlimaneutral bis 2050\n\n## Landquart setzt sich hohe Energieziele\n\nDie Gemeinde Landquart will mit dem neuen Energierichtplan bis 2050 klimaneutral sein und die\nEnergieversorgung dafür zu 100 Prozent auf erneuerbare Energien umstellen.\n\nKreative Sitzgelegenheiten am Pistenrand\n\n## Not macht erfinderisch\n\nSeit dem Montag sind in Graubünden die Terrassen geschlossen. Mit kreativen Ideen lässt es sich am\nPistenrand dennoch gemütlich machen.\n\nEin Stück Normalität\n\n## Cordon bleu à la «Büezer»\n\nDas Restaurant «Im Park» in Thusis empfängt täglich rund 20 «Büezer» zum Mittagessen. Den\nArbeiterinnen und Arbeitern im Aussendienst schmeckts.\n\nGraubünden fordert:\n\n## So soll der Bundesrat lockern\n\nDer Nationalrat macht Druck. Er verlangte am Mittwoch mit einer Erklärung stärkere Lockerungen ab\n22. März. Der Entscheid fiel knapp aus.\n\nEishockey\n\n## Niederreiter kassiert Busse\n\nNino Niederreiter wird nach einem Foul mit einer Geldbusse bestraft.\n\nBundesrat Ignazio Cassis\n\n## «Wir konnten mit dem Rätoromanischen weltweit präsent sein»\n\nDie erste «emna rumantscha» ist erfolgreich zu Ende gegangen. Bundesrat Ignazio Cassis im Interview.\n\nSkitouren-WM\n\n## Skitouren-WM: Lietha und Perreten mit Gold und Silber\n\nDie Schweizer überzeugen an der Skitouren-WM. Unter ihnen auch die Bündner Arno Lietha und Patrick\nPerreten. Lietha holt einen Tag nach der U23-Gold-Medaille mit dem Team eine Silbermedaille.\n\nEishockey\n\n## Spielen – und geniessen\n\nFélicien Du Bois zweifelte, ob er überhaupt noch einmal aufs Eis zurückkehren würde. Nun ist der\nVerteidiger des HCD, der im Sommer zurücktritt, wieder da.\n\nMeistgeklickt  1. Aus dem Leben\n\nGraubünden lockert Besuchsregeln in Alters- und Pflegeheimen\n\n03.03.2021\n\n  2. Wirtschaft\n\nFebruar-Fazit: Frust und Verlust bei den Bündner Bergbahnen\n\n03.03.2021\n\n  3. Aus dem Leben\n\nKeine Wintersaison mehr für Ischgl\n\n03.03.2021\n\nFussball\n\n## Hoffen und Bangen auf dem Crap Gries\n\nDie US Schluein Ilanz hält sich fit für die erhoffte Fortsetzung der regionalen 2.-Liga-\nFussballmeisterschaft. Der Zeitpunkt des Wiederbeginns ist ungewiss.\n\nBLOG\n\nKai Bock: Der Single-Blog!\n\n## Per Swipe in die Friendzone\n\nBau ein Haus, pflanz einen Baum, mach ein Kind – dass dieser Lebensentwurf nicht zwangsläufig auf\njeden Menschen zugeschnitten ist, beweisen die anonymen Liebesbriefe ans wunderschöne, elende\nSingle-Leben. Ein Hoch auf Selbstgespräche, Dosen-Ravioli und Liebeleien.\n\n### Fahrt Ihr über Ostern in die Ferien?\n\nAuswahlmöglichkeiten\n\nJa\n\nNein\n\nVoting läuft\n\n## «Bündner des Jahres 2020»: Stimmt jetzt für Eure Favoriten ab!\n\nAb sofort läuft das Voting zur Wahl «Bündner des Jahres 2020». Ihr entscheidet, welche\nPersonengruppe die exklusive Holztrophäe erhält und damit Nachfolger von Andres Ambühl wird.\n\n## 2\\. GR Template Menu\n\n  * Bündner des Jahres\n  * Coronavirus\n  * Abstimmungen\n  * HC Davos\n  * Blogs\n  * «Heimspiel»\n  * Road to Peking\n\nWetter in Chur Mehr __\n\nHeute\n\n14°C--3°C\n\nFreitag\n\n8°C--4°C\n\nSamstag\n\n8°C--0°C\n\nSonntag\n\n11°C---1°C\n\nMontag\n\n10°C--0°C\n\nWetter präsentiert von:\n\n6 Bilder\n\n##  Leserbilder des Tages - März 2021\n\nBLOG\n\nStudentenfutter\n\n## Freiwilligentätigkeit in Covid-Zeiten\n\nAn der Fachhochschule Graubünden wird ausgebildet und geforscht. Über 2000 Studierende besuchen\nBachelor-, Master- und Weiterbildungsstudiengänge. In diesem Blog geben Studierende, Dozierende und\nMitarbeitende Einblicke in den Hochschulalltag und in Themen, welche sie gerade beschäftigen.\n\nTicker\n\n## Gemeinde Klosters passt ihr Schutzkonzept an\n\nResultate, Informationen und Anlässe: Hier kommt der etwas andere Ticker aus der Region. Mit diesen\nInfos seid Ihr immer auf dem neusten Stand.\n\nSPONSORED\n\n## Schlafmittelmissbrauch und die Folgen im Alter\n\nEinnahme von angstlösenden oder beruhigenden Schlafmitteln\n\nSPONSORED\n\n## Knochenverankerte Hörgeräte\n\nKnochenverankerte Hörgeräte, auch Baha Knochenleitungs-Hörimplantate genannt, unterstützen seit mehr\nals 40 Jahren Menschen beim Hören und werden weltweit von mehr als 160'000 Patienten getrag\n\nSPONSORED\n\n## Neuer Job gesucht?\n\nStellensuchende, die strukturiert vorgehen, sind erfolgreicher!  \nTeil 1 von 4\n\nRangun\n\n## Myanmar trauert um seine Toten - Proteste gehen trotz Gewalt weiter\n\nDie bisher schlimmste Eskalation der Polizeigewalt mit Dutzenden Toten in Myanmar hat weltweit\nEntsetzen ausgelöst.\n\nNeueste Meinungen\n\nSamuel\n\nSchneider-Mani\n\nPost bald ohne Service Publik?\n\nBarbara\n\nRimml\n\nKinder machen wir auch zusammen\n\nTanja\n\nFöllmi\n\nWarum sind Einkaufsläden und Hotels keine Covid-19-Hotspots?\n\nGian\n\nZinsli\n\nDer Wolf, die heilige Kuh\n\nSan Francisco\n\n## Musikdienst Tidal wird von Bezahlfirma Square übernommen\n\nDer Musikdienst Tidal von Rapstar Jay-Z bekommt einen neuen Besitzer: Die Bezahlfirma Square des\nTwitter-Chefs Jack Dorsey übernimmt die Mehrheit für 297 Millionen Dollar.\n\nSchaffhausen\n\n## Weiterer Fall von Vogelgrippe in der Schweiz aufgetreten\n\nIm Kanton Schaffhausen ist ein weiterer Fall von Vogelgrippe aufgetreten. Bei einem Mäusebussard\nwurde das Vogelgrippe-Virus H5N4 nachgewiesen.\n\nBern\n\n## Genfer Chappatte für Karikatur des Jahres 2020 ausgezeichnet\n\nDer Genfer Karikaturist Patrick Chappatte gewinnt für «Corona-Finsternis» den Preis für die\nSchweizer Karikatur des Jahres 2020.\n\n32 Bilder\n\n##  Die Bündner Polizeiarbeit in Bildern\n\nNeuenburg\n\n## Erwerbslosigkeit traf junge Frauen im Corona-Jahr am heftigsten\n\nFrauen unter 40 sind im ersten Covid-19-Jahr am stärksten von Erwerbslosigkeit betroffen gewesen.\n\nBern\n\n## Mehr Markenfälschungen wegen Online-Handel am Zoll entdeckt\n\nDie Eidgenössische Zollverwaltung (EZV) hat 2020 eineinhalb Mal soviel Markenfälschungen\nsichergestellt als das Jahr zuvor.\n\nBörse\n\nMehr __\n\nSMI\n\n10'745.73 (-26.15)\n\n\\-\n\nWechselkurse\n\nEUR 1.1092 CHF\n\nUSD 0.91965 CHF\n\nPräsentiert von:\n\nGKB Anlagefonds | Whrg. | Vorw. | YTD | 12 Mt.  \n---|---|---|---|---  \nGKB (CH) Strat. Einkommen ESG A | CHF | -0.43% | -0.01% | 3.09%  \nGKB (CH) Strat. Ausgewogen ESG A | CHF | -0.01% | 1.93% | 8.1%  \nGKB (CH) Strat. Kapitalgewinn ESG A | CHF | 0.48% | 5.14% | 15.63%  \nGKB (CH) Aktien Schweiz ESG A | CHF | 0.61% | 1.81% | 7.69%  \nGKB (CH) Aktien Welt ESG A | USD | -0.44% | 4.73% | 25.51%  \nGKB (CH) Aktien Dynamisch ESG A | CHF | 1% | 4.15% | -2.04%  \n  \nMehr Börse __\n\nPräsentiert von:\n\nBern\n\n## Frühjahrssession: Einer von 617 Tests fiel positiv aus\n\nDas Coronavirus macht auch vor der Frühlingssession nicht halt.\n\nHaag\n\n## VAT nach starkem Wachstum auch mit höherem Gewinn\n\nDer Ostschweizer Vakuumventilhersteller VAT hat das starke Wachstum 2020 auch in eine deutlich\nhöhere Profitabilität umgemünzt.\n\nBerlin\n\n## Pandemie bremst ProSiebenSat.1 aus\n\nTrotz eines Endspurts mit wieder besseren Werbeeinnahmen hat die Corona-Krise ProSiebenSat.1 im\nvergangenen Jahr hart getroffen. Im Schlussquartal steigerte der Konzern den Umsatz.\n\nFrankfurt/Main\n\n## Lufthansa mit Rekordverlust im Corona-Jahr - Erholung zieht sich\n\nDer Geschäftseinbruch in der Corona-Krise hat der Lufthansa 2020 einen Rekordverlust eingebrockt.\n\nSt. Gallen\n\n## Raiffeisen steigert Gewinn im Corona-Jahr 2020 leicht\n\nDie Raiffeisen-Gruppe hat im Geschäftsjahr 2020 den Gewinn in dem herausfordernden Umfeld um die\nCorona-Pandemie leicht verbessert.\n\nESAF 2025\n\n## Die Region Zürichsee-Linth hofft auf Mollis – ausser einer\n\nNicht nur im Glarnerland wartet man gespannt auf den Samstag. Auch die Region Zürichsee-Linth\nfiebert für das Eidgenössische Schwingfest 2025 in Mollis mit.\n\nSnowboard\n\n## WM-Stolz mit Vorbehalt\n\nObwohl Nevin Galmarini an den Weltmeisterschaften der Alpin Snowboarder das Podest zweimal\nverpasste, kann er die Wettkämpfe als Erfolg abbuchen.\n\nSchutz vor dem Virus\n\n## Glarner Gemeinnützige leistet Beitrag an FFP2-Masken in Heimen\n\nIn den Glarner Heimen ist für Besuchende das Tragen einer FFP2-Maske vorgeschrieben.\n\nAndré Huser im Interview\n\n## «Die Sanierung kommt zustande, das kann ich sagen»\n\nAndré Huser ist Geschäftsführer und Verwaltungsrat der Sportbahnen Braunwald. Er sagt, warum der\nRückzug der Familie Trümpi ein geordneter ist.\n\nWanderausstellung\n\n## Sie antworten auf Gedichte\n\nIm Rahmen des Projekts «Viva Flurin» bauen zurzeit zehn einheimische Kunstschaffende in Laax,\nBreil/Brigels und Siat eine Wanderausstellung zum Dichter und Schriftsteller Flurin Camathias auf.\n\nRuinaulta\n\n## Der durchgehende Wanderweg ist vorläufig schubladisiert\n\nDer Rheinschlucht-Verein will auch die Alternativen für einen Pfad durch die Ruinaulta in den\nnächsten Jahren nicht weiterverfolgen. Stattdessen setzt man auf Optimierungen des Bestehenden.\n\nWOHNEN\n\nwohnen.suedostschweiz\n\n## Die «Alters-WG» – eine Alternative gegen Einsamkeit und teure Mieten\n\nGemeinsames Wohnen wird auch bei älteren Semestern zunehmend beliebter. Beim Abschluss von\nMietverträgen respektive Untermietverträgen sind jedoch einige Punkte zu beachten.\n\nKommentar\n\n## Das Virus weglockern\n\nDie ersten beiden Wellen haben in der Schweiz bald 10'000 Menschenleben gekostet. Die zweite Welle\nwar tödlicher als die erste – aber die dritte, die werden wir schon irgendwie weglockern.\n\nKurse in Elm\n\n## Versteckte Rehkitze werden jetzt per Suchflug aufgespürt\n\nJedes Jahr geraten Tausende Rehkitze in Mähmaschinen. Eine Gruppe Glarner will die jungen Rehe jetzt\nmit Drohnen aufspüren.\n\nBern\n\n## Bürgerliche Ständeräte fordern Corona-Umdenken vom Bundesrat\n\nMehrere bürgerliche Ständeräte haben am Donnerstagmorgen den Bundesrat aufgefordert, der Bevölkerung\nund der Wirtschaft in der Corona-Krise mehr Perspektiven zu geben.\n\nWashington\n\n## Biden kritisiert Corona-Lockerungen als «Neandertaler-Denken»\n\nUS-Präsident Joe Biden hat die Lockerung von coronabedingten Beschränkungen in mehreren US-\nBundesstaaten kritisiert und den zuständigen Gouverneuren «Neandertaler-Denken» vorgeworfen.\n\nFussball\n\n## Grosso muss in dieser Woche noch liefern\n\nSion - Lugano und Zürich - Luzern sind die Spiele, mit denen die 23. Runde der Super League\nabgeschlossen wird. Für Sions Cheftrainer Fabio Grosso könnte es einer der letzten Einsätze sein.\n\nWashington\n\n## SpaceX-Rakete explodiert nach zunächst erfolgreicher Landung\n\nMinuten nach seiner Landung im US-Bundesstaat Texas ist ein unbemannter Prototyp einer neuen Rakete\ndes Unternehmens SpaceX explodiert.\n\nFussball\n\n## Leidender FCB ringt YB einen Punkt ab\n\nNach Tagen und Wochen der Enttäuschungen liefert der FC Basel ein achtbares Resultat ab. Die Basler\nremisieren in der 23. Runde der Super League daheim gegen den klaren Leader Young Boys 1:1.\n\nStockholm\n\n## Mehrere Verletzte bei mutmasslicher Terrortat in Schweden\n\nBei einer mutmasslichen Terrortat in einer Kleinstadt in Schweden hat ein Angreifer mehrere Menschen\nverletzt.\n\nZürich\n\n## Deutschschweizer Buchhandlungen: Umsatz 2020 trotz Corona gehalten\n\nFür Bücher haben Kundinnen und Kunden im Coronajahr 2020 tiefer in die Tasche gegriffen.\n\nHorrenbach-Buchen\n\n## Paar kommt bei Winterwanderung an den Sieben Hengsten ums Leben\n\nIn den Berner Voralpen ist ein Paar am Dienstag tödlich verunglückt. Die 25-jährige Frau und der\n31-jährige Mann waren im Gebiet der Sieben Hengste abgestürzt.\n\nFreestyle Ski und Snowboard\n\n## Diese Bündner und Glarner treten an der WM in Aspen an\n\nSwiss-Ski und Swiss-Snowboard haben die Selektion für die Snowboard Freestyle und Freeski\nWeltmeisterschaften in Aspen von kommender Woche bekannt gegeben.\n\nKollision in Matt\n\n## Töfflifahrer übersieht Auto\n\nIn Matt ist es am Mittwochmittag zu einem Verkehrsunfall gekommen. Ein Töfflifahrer kollidierte mit\neinem Auto und wurde verletzt.\n\nBasel\n\n## Blick hinter die Restaurierungskulissen im Museum Tinguely Basel\n\nDas Museum Tinguely gewährt im Rahmen der neuen Sammlungspräsentation einen Blick hinter die\nKulissen: Im neuen Restaurierungs-Schauatelier können Besucherinnen und Besucher miterleben, wie das\nÜbe\n\nDen Haag\n\n## Weltstrafgericht eröffnet Ermittlungen zu Palästinensergebieten\n\nDie Anklage des Internationalen Strafgerichtshofes hat offiziell Ermittlungen zu Kriegsverbrechen in\nden Palästinensergebieten eingeleitet.\n\nBrüssel/Wilhelmshaven\n\n## Deutschland schickt wieder Schiff zur Embargokontrolle ins Mittelmeer\n\nDeutschland schickt Ende der Woche wieder ein Schiff für den EU-Einsatz zur Überwachung des\nWaffenembargos gegen Libyen ins Mittelmeer.\n\nÜber Erziehung, Bildung und Entwicklung\n\n## Kanton informiert Glarner Eltern nun per App\n\nDer Kanton Glarus hat eine Lizenz der App «parentu» erworben. Mit ihr will er Eltern über diverse\nThemen und Veranstaltungen rund um deren Kinder informieren.\n\nMoskau\n\n## Russland fordert nach Sanktionen Beweise für Vergiftung Nawalnys\n\nNach den neuen Sanktionen der EU und den US-Strafmassnahmen im Fall des vergifteten Kremlgegners\nAlexej Nawalny hat Russland erneut Beweise für das Attentat gefordert.\n\nGenf\n\n## Uno-Sondergesandte erachtet Deeskalation nach wie vor für möglich\n\nDie Uno-Sondergesandte Christine Schraner Burgener hat sich bestürzt über die neuen Todesfälle und\ndie Repression in Myanmar geäussert.\n\nSki nordisch\n\n## Dario Cologna verpasst Top-10-Platzierung\n\nDario Cologna war in Oberstdorf weit davon entfernt, eine Überraschung zu schaffen. Auch der\nWeltmeister Alexander Bolschunow musste sich an der WM über 15 Kilometer geschlagen geben.\n\nLondon\n\n## Ryanair hofft auf bis zu 70 Prozent des normalen Sommer-Verkehrs\n\nDer irische Billigflieger Ryanair will in diesem Sommer 60 bis 70 Prozent der Passagierzahlen von\n2019 erreichen und setzt dabei auf mehr Impfungen und mehr Corona-Tests.\n\n\u001b[0m\n",
                    "output_type": "stream"
                }
            ],
            "execution_count": 6
        }
    ]
}