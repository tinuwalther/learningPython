{
 "metadata": {
  "language_info": {
   "codemirror_mode": {
    "name": "ipython",
    "version": 3
   },
   "file_extension": ".py",
   "mimetype": "text/x-python",
   "name": "python",
   "nbconvert_exporter": "python",
   "pygments_lexer": "ipython3",
   "version": "3.8.5-final"
  },
  "orig_nbformat": 2,
  "kernelspec": {
   "name": "python3",
   "display_name": "Python 3",
   "language": "python"
  }
 },
 "nbformat": 4,
 "nbformat_minor": 2,
 "cells": [
  {
   "source": [
    "# Install Python Jupyter Notebook in Visual Studio Code\n",
    "pip install -U ipykernel\n",
    "\n",
    "# Visual Studio Code Jupyter Notebook\n",
    "\n",
    "Import os-library for python for operating system functions."
   ],
   "cell_type": "markdown",
   "metadata": {}
  },
  {
   "source": [
    "## Get current directory"
   ],
   "cell_type": "markdown",
   "metadata": {}
  },
  {
   "source": [
    "import os\n",
    "os.getcwd()"
   ],
   "cell_type": "code",
   "metadata": {},
   "execution_count": null,
   "outputs": []
  },
  {
   "source": [
    "## Get windows version"
   ],
   "cell_type": "markdown",
   "metadata": {}
  },
  {
   "source": [
    "import sys\n",
    "version = sys.getwindowsversion()\n",
    "print(f'Windows {str(version.major)}.{str(version.minor)}, Build {version.build}')"
   ],
   "cell_type": "code",
   "metadata": {},
   "execution_count": null,
   "outputs": []
  },
  {
   "source": [
    "## List pythons moudle-path"
   ],
   "cell_type": "markdown",
   "metadata": {}
  },
  {
   "cell_type": "code",
   "execution_count": 2,
   "metadata": {},
   "outputs": [
    {
     "output_type": "stream",
     "name": "stdout",
     "text": [
      "/Users/Tinu/git/gitlab.swisscloud.io/learningPython/Notebooks\n/Users/Tinu/.vscode/extensions/ms-toolsai.jupyter-2021.2.576440691/pythonFiles\n/Users/Tinu/.vscode/extensions/ms-toolsai.jupyter-2021.2.576440691/pythonFiles/lib/python\n/Users/Tinu/opt/anaconda3/lib/python38.zip\n/Users/Tinu/opt/anaconda3/lib/python3.8\n/Users/Tinu/opt/anaconda3/lib/python3.8/lib-dynload\n\n/Users/Tinu/opt/anaconda3/lib/python3.8/site-packages\n/Users/Tinu/opt/anaconda3/lib/python3.8/site-packages/aeosa\n/Users/Tinu/opt/anaconda3/lib/python3.8/site-packages/IPython/extensions\n/Users/Tinu/.ipython\n/Users/Tinu/git/gitlab.swisscloud.io/learningPython/Modules\n"
     ]
    }
   ],
   "source": [
    "import sys\n",
    "modulepath = sys.path\n",
    "for item in modulepath:\n",
    "\tprint(item)"
   ]
  },
  {
   "cell_type": "code",
   "execution_count": 1,
   "metadata": {},
   "outputs": [
    {
     "output_type": "stream",
     "name": "stdout",
     "text": [
      "{'Function': 'dig', 'Input': 'sbb.ch', 'Resolved': '194.150.245.142', 'Succeeded': True}\n{'Function': 'dig', 'Input': 'crazy.domain.io', 'Resolved': 'Could not resolve crazy.domain.io', 'Succeeded': False}\n"
     ]
    }
   ],
   "source": [
    "import sys\n",
    "sys.path.append('/Users/Tinu/git/gitlab.swisscloud.io/learningPython/Modules')\n",
    "import PyNetTools\n",
    "import json\n",
    "\n",
    "do = PyNetTools.PyNet()\n",
    "collection = ['sbb.ch','crazy.domain.io']\n",
    "for item in collection:\n",
    "    print(do.dig(item))"
   ]
  },
  {
   "cell_type": "code",
   "execution_count": null,
   "metadata": {},
   "outputs": [],
   "source": []
  }
 ]
}