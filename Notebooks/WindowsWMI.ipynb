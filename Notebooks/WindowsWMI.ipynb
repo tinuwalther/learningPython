{
 "metadata": {
  "language_info": {
   "codemirror_mode": {
    "name": "ipython",
    "version": 3
   },
   "file_extension": ".py",
   "mimetype": "text/x-python",
   "name": "python",
   "nbconvert_exporter": "python",
   "pygments_lexer": "ipython3",
   "version": "3.9.1-final"
  },
  "orig_nbformat": 2,
  "kernelspec": {
   "name": "python3",
   "display_name": "Python 3.9.1 64-bit",
   "metadata": {
    "interpreter": {
     "hash": "ac59ebe37160ed0dfa835113d9b8498d9f09ceb179beaac4002f036b9467c963"
    }
   }
  }
 },
 "nbformat": 4,
 "nbformat_minor": 2,
 "cells": [
  {
   "source": [
    "# Managing Windows System with WMI And Python\n",
    "\n",
    "[Managing Windows System Administration With WMI And Python](https://blog.ipswitch.com/managing-windows-system-administration-with-wmi-and-python)"
   ],
   "cell_type": "markdown",
   "metadata": {}
  },
  {
   "source": [
    "## Install the WMI Provider for python\n",
    "\n",
    "python.exe -m pip install wmi"
   ],
   "cell_type": "markdown",
   "metadata": {}
  },
  {
   "source": [
    "## Connect to local machine"
   ],
   "cell_type": "markdown",
   "metadata": {}
  },
  {
   "source": [
    "### List CIM classes"
   ],
   "cell_type": "markdown",
   "metadata": {}
  },
  {
   "cell_type": "code",
   "execution_count": null,
   "metadata": {},
   "outputs": [],
   "source": [
    "import wmi\n",
    "conn = wmi.WMI()\n",
    "for class_name in conn.classes:\n",
    "    if 'CIM_' in class_name:\n",
    "        print(class_name)"
   ]
  },
  {
   "source": [
    "### Finding Methods of WMI Class"
   ],
   "cell_type": "markdown",
   "metadata": {}
  },
  {
   "cell_type": "code",
   "execution_count": null,
   "metadata": {},
   "outputs": [],
   "source": [
    "import wmi\n",
    "for item in wmi.WMI().Win32_Service.methods.keys():\n",
    "    print(item)"
   ]
  },
  {
   "source": [
    "### Finding Properties of WMI Class"
   ],
   "cell_type": "markdown",
   "metadata": {}
  },
  {
   "cell_type": "code",
   "execution_count": null,
   "metadata": {},
   "outputs": [],
   "source": [
    "# prints all methods\n",
    "import wmi\n",
    "for item in wmi.WMI().Win32_Service.properties.keys():\n",
    "    print(item)"
   ]
  },
  {
   "source": [
    "### List Services"
   ],
   "cell_type": "markdown",
   "metadata": {}
  },
  {
   "cell_type": "code",
   "execution_count": null,
   "metadata": {},
   "outputs": [],
   "source": [
    "import wmi\n",
    "conn = wmi.WMI()\n",
    "for class_name in conn.classes:\n",
    "    if '_Service' in class_name:\n",
    "        print(class_name)"
   ]
  },
  {
   "source": [
    "### List properties of a service"
   ],
   "cell_type": "markdown",
   "metadata": {}
  },
  {
   "cell_type": "code",
   "execution_count": null,
   "metadata": {},
   "outputs": [],
   "source": [
    "import wmi\n",
    "conn = wmi.WMI()\n",
    "for service in conn.Win32_Service(Name=\"wuauserv\"):\n",
    "    print(service.DisplayName)"
   ]
  },
  {
   "source": [
    "### List all services which have started and which contain update in their name"
   ],
   "cell_type": "markdown",
   "metadata": {}
  },
  {
   "cell_type": "code",
   "execution_count": null,
   "metadata": {},
   "outputs": [],
   "source": [
    "import wmi\n",
    "conn = wmi.WMI()\n",
    "for item in conn.Win32_Service(StartMode=\"Auto\", State=\"Running\"):\n",
    "    if 'Update' in item.Name:\n",
    "        print(item.State, item.StartMode, item.Name, item.DisplayName, item.PathName)"
   ]
  },
  {
   "source": [
    "## Use a WMI Query"
   ],
   "cell_type": "markdown",
   "metadata": {}
  },
  {
   "cell_type": "code",
   "execution_count": null,
   "metadata": {},
   "outputs": [],
   "source": [
    "import wmi\n",
    "conn = wmi.WMI()\n",
    "wql  = 'SELECT Name,DisplayName,State,StartMode,StartName,PathName FROM Win32_Service WHERE Name = \"wuauserv\"'\n",
    "for service in conn.query(wql):\n",
    "    print(service)"
   ]
  },
  {
   "source": [
    "## Connect to an remote machine"
   ],
   "cell_type": "markdown",
   "metadata": {}
  },
  {
   "cell_type": "code",
   "execution_count": null,
   "metadata": {},
   "outputs": [],
   "source": [
    "import wmi\n",
    "import getpass\n",
    "username = getpass.getuser()\n",
    "password = getpass.getpass(prompt='Enter the password for '+str(user), stream=None)\n",
    "conn = wmi.WMI(\"13.76.128.231\", user=r'username', password=password)"
   ]
  },
  {
   "source": [
    "## Query for a class"
   ],
   "cell_type": "markdown",
   "metadata": {}
  },
  {
   "cell_type": "code",
   "execution_count": null,
   "metadata": {},
   "outputs": [],
   "source": [
    "import wmi\n",
    "conn = wmi.WMI()\n",
    "for os in conn.Win32_OperatingSystem():\n",
    "  print(os.Caption)"
   ]
  },
  {
   "cell_type": "code",
   "execution_count": null,
   "metadata": {},
   "outputs": [],
   "source": []
  }
 ]
}